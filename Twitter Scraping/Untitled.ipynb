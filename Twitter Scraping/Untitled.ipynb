{
 "cells": [
  {
   "cell_type": "code",
   "execution_count": 1,
   "id": "e3bec2cc",
   "metadata": {},
   "outputs": [],
   "source": [
    "import csv\n",
    "from getpass import getpass\n",
    "from time import sleep\n",
    "from selenium import webdriver\n",
    "from selenium.webdriver.common.keys import Keys\n",
    "from selenium.webdriver.chrome.service import Service\n",
    "from webdriver_manager.chrome import ChromeDriverManager\n",
    "import pandas as pd"
   ]
  },
  {
   "cell_type": "code",
   "execution_count": 2,
   "id": "7c8d439c",
   "metadata": {},
   "outputs": [
    {
     "name": "stdout",
     "output_type": "stream",
     "text": [
      "\n"
     ]
    }
   ],
   "source": [
    "# Create instance for web driver\n",
    "driver = webdriver.Chrome(service = Service(ChromeDriverManager().install()))"
   ]
  },
  {
   "cell_type": "code",
   "execution_count": 3,
   "id": "8a95c2db",
   "metadata": {},
   "outputs": [],
   "source": [
    "driver.get('https://www.twitter.com/login')"
   ]
  },
  {
   "cell_type": "code",
   "execution_count": 4,
   "id": "b54b6271",
   "metadata": {},
   "outputs": [],
   "source": [
    "username = driver.find_element(\"xpath\",'//input[@name = \"text\"]')\n",
    "username.send_keys('raj_rajsingh03')"
   ]
  },
  {
   "cell_type": "code",
   "execution_count": 5,
   "id": "c4b4fb4d",
   "metadata": {},
   "outputs": [],
   "source": [
    "username.send_keys(Keys.RETURN)"
   ]
  },
  {
   "cell_type": "code",
   "execution_count": 6,
   "id": "d0e12cd2",
   "metadata": {},
   "outputs": [
    {
     "name": "stdout",
     "output_type": "stream",
     "text": [
      "········\n"
     ]
    }
   ],
   "source": [
    "mypassword = getpass()"
   ]
  },
  {
   "cell_type": "code",
   "execution_count": 7,
   "id": "ac03a75c",
   "metadata": {},
   "outputs": [],
   "source": [
    "password = driver.find_element(\"xpath\", '//input[@name = \"password\"]')\n",
    "password.send_keys(mypassword)"
   ]
  },
  {
   "cell_type": "code",
   "execution_count": 8,
   "id": "baff2c18",
   "metadata": {},
   "outputs": [],
   "source": [
    "password.send_keys(Keys.RETURN)"
   ]
  },
  {
   "cell_type": "code",
   "execution_count": 11,
   "id": "439158b4",
   "metadata": {},
   "outputs": [],
   "source": [
    "search_input = driver.find_element(\"xpath\", '//input[@aria-label = \"Search query\"]')\n",
    "search_input.send_keys('#monkeypox')"
   ]
  },
  {
   "cell_type": "code",
   "execution_count": 12,
   "id": "6a0e9085",
   "metadata": {},
   "outputs": [],
   "source": [
    "search_input.send_keys(Keys.RETURN)"
   ]
  },
  {
   "cell_type": "code",
   "execution_count": 13,
   "id": "29f9db59",
   "metadata": {},
   "outputs": [],
   "source": [
    "driver.find_element(\"link text\", 'Latest').click()"
   ]
  },
  {
   "cell_type": "code",
   "execution_count": 14,
   "id": "db6b03bf",
   "metadata": {},
   "outputs": [],
   "source": [
    "cards = driver.find_elements(\"xpath\", '//div[@data-testid = \"cellInnerDiv\"]')"
   ]
  },
  {
   "cell_type": "code",
   "execution_count": 15,
   "id": "abc7eaac",
   "metadata": {},
   "outputs": [],
   "source": [
    "card = cards[5]"
   ]
  },
  {
   "cell_type": "code",
   "execution_count": 16,
   "id": "cf2621fd",
   "metadata": {},
   "outputs": [
    {
     "data": {
      "text/plain": [
       "'KAPARKER'"
      ]
     },
     "execution_count": 16,
     "metadata": {},
     "output_type": "execute_result"
    }
   ],
   "source": [
    "#username\n",
    "card.find_element(\"xpath\", './/span/span').text"
   ]
  },
  {
   "cell_type": "code",
   "execution_count": 17,
   "id": "cd4de8c9",
   "metadata": {},
   "outputs": [
    {
     "data": {
      "text/plain": [
       "'@ALLIZDOGNADOR'"
      ]
     },
     "execution_count": 17,
     "metadata": {},
     "output_type": "execute_result"
    }
   ],
   "source": [
    "#handle\n",
    "card.find_element(\"xpath\", './/span[contains(text(), \"@\")]').text"
   ]
  },
  {
   "cell_type": "code",
   "execution_count": 18,
   "id": "d5d3584f",
   "metadata": {},
   "outputs": [
    {
     "data": {
      "text/plain": [
       "'2022-07-24T06:22:29.000Z'"
      ]
     },
     "execution_count": 18,
     "metadata": {},
     "output_type": "execute_result"
    }
   ],
   "source": [
    "#post_date\n",
    "card.find_element(\"xpath\",'.//time').get_attribute('datetime')\n",
    "\n",
    "# with sponsered content, there is no datetime \n",
    "# so it will return no such element exception"
   ]
  },
  {
   "cell_type": "code",
   "execution_count": 19,
   "id": "a7bb665e",
   "metadata": {},
   "outputs": [
    {
     "name": "stdout",
     "output_type": "stream",
     "text": [
      "With all the sucking up western leaders are doing, he is a ripe target for #monkeypox\n"
     ]
    }
   ],
   "source": [
    "#CONTENTS OF THE TWEET\n",
    "# upper_comment = card.find_element(\"xpath\", './/div[2]/div[2]/div[1]').text  # previous method\n",
    "lower_comment = card.find_element(\"xpath\", './/div[@data-testid = \"tweetText\"]').text\n",
    "# comment = upper_comment+lower_comment\n",
    "print(lower_comment)"
   ]
  },
  {
   "cell_type": "code",
   "execution_count": 20,
   "id": "3ec7f82c",
   "metadata": {},
   "outputs": [
    {
     "data": {
      "text/plain": [
       "''"
      ]
     },
     "execution_count": 20,
     "metadata": {},
     "output_type": "execute_result"
    }
   ],
   "source": [
    "# Reply Count\n",
    "card.find_element(\"xpath\", './/div[@data-testid = \"reply\"]').text"
   ]
  },
  {
   "cell_type": "code",
   "execution_count": 21,
   "id": "6fc45e2d",
   "metadata": {},
   "outputs": [
    {
     "data": {
      "text/plain": [
       "''"
      ]
     },
     "execution_count": 21,
     "metadata": {},
     "output_type": "execute_result"
    }
   ],
   "source": [
    "# Retweet\n",
    "card.find_element(\"xpath\", './/div[@data-testid = \"retweet\"]').text"
   ]
  },
  {
   "cell_type": "code",
   "execution_count": 22,
   "id": "07ad3c71",
   "metadata": {},
   "outputs": [
    {
     "data": {
      "text/plain": [
       "''"
      ]
     },
     "execution_count": 22,
     "metadata": {},
     "output_type": "execute_result"
    }
   ],
   "source": [
    "# like\n",
    "card.find_element(\"xpath\", './/div[@data-testid = \"like\"]').text"
   ]
  },
  {
   "cell_type": "code",
   "execution_count": 23,
   "id": "4948a930",
   "metadata": {},
   "outputs": [],
   "source": [
    "def get_tweet_data(card):\n",
    "    \"Extract data from tweet data\"\n",
    "    username = card.find_element(\"xpath\", './/span/span').text\n",
    "    handle = card.find_element(\"xpath\", './/span[contains(text(), \"@\")]').text\n",
    "    try:\n",
    "        postdate = card.find_element(\"xpath\",'.//time').get_attribute('datetime')\n",
    "    except NoSuchElementException:\n",
    "        return\n",
    "    comment = card.find_element(\"xpath\", './/div[@data-testid = \"tweetText\"]').text\n",
    "    reply_count = card.find_element(\"xpath\", './/div[@data-testid = \"reply\"]').text\n",
    "    retweet = card.find_element(\"xpath\", './/div[@data-testid = \"retweet\"]').text\n",
    "    like = card.find_element(\"xpath\", './/div[@data-testid = \"like\"]').text\n",
    "    \n",
    "    tweet = (username, handle, postdate, comment, reply_count, retweet, like)\n",
    "    return tweet"
   ]
  },
  {
   "cell_type": "code",
   "execution_count": 24,
   "id": "04c433e9",
   "metadata": {},
   "outputs": [
    {
     "data": {
      "text/plain": [
       "('KAPARKER',\n",
       " '@ALLIZDOGNADOR',\n",
       " '2022-07-24T06:22:29.000Z',\n",
       " 'With all the sucking up western leaders are doing, he is a ripe target for #monkeypox',\n",
       " '',\n",
       " '',\n",
       " '')"
      ]
     },
     "execution_count": 24,
     "metadata": {},
     "output_type": "execute_result"
    }
   ],
   "source": [
    "get_tweet_data(card)"
   ]
  },
  {
   "cell_type": "code",
   "execution_count": 27,
   "id": "fcff34b1",
   "metadata": {},
   "outputs": [
    {
     "ename": "StaleElementReferenceException",
     "evalue": "Message: stale element reference: element is not attached to the page document\n  (Session info: chrome=103.0.5060.134)\nStacktrace:\nBacktrace:\n\tOrdinal0 [0x00B55FD3+2187219]\n\tOrdinal0 [0x00AEE6D1+1763025]\n\tOrdinal0 [0x00A03E78+802424]\n\tOrdinal0 [0x00A06854+813140]\n\tOrdinal0 [0x00A06712+812818]\n\tOrdinal0 [0x00A069A0+813472]\n\tOrdinal0 [0x00A31925+989477]\n\tOrdinal0 [0x00A31EAB+990891]\n\tOrdinal0 [0x00A28411+951313]\n\tOrdinal0 [0x00A4CBD4+1100756]\n\tOrdinal0 [0x00A28394+951188]\n\tOrdinal0 [0x00A4CDA4+1101220]\n\tOrdinal0 [0x00A5CFC2+1167298]\n\tOrdinal0 [0x00A4C9A6+1100198]\n\tOrdinal0 [0x00A26F80+946048]\n\tOrdinal0 [0x00A27E76+949878]\n\tGetHandleVerifier [0x00DF90C2+2721218]\n\tGetHandleVerifier [0x00DEAAF0+2662384]\n\tGetHandleVerifier [0x00BE137A+526458]\n\tGetHandleVerifier [0x00BE0416+522518]\n\tOrdinal0 [0x00AF4EAB+1789611]\n\tOrdinal0 [0x00AF97A8+1808296]\n\tOrdinal0 [0x00AF9895+1808533]\n\tOrdinal0 [0x00B026C1+1844929]\n\tBaseThreadInitThunk [0x7649FA29+25]\n\tRtlGetAppContainerNamedObjectPath [0x778A7A9E+286]\n\tRtlGetAppContainerNamedObjectPath [0x778A7A6E+238]\n",
     "output_type": "error",
     "traceback": [
      "\u001b[1;31m---------------------------------------------------------------------------\u001b[0m",
      "\u001b[1;31mStaleElementReferenceException\u001b[0m            Traceback (most recent call last)",
      "Input \u001b[1;32mIn [27]\u001b[0m, in \u001b[0;36m<cell line: 3>\u001b[1;34m()\u001b[0m\n\u001b[0;32m      2\u001b[0m card \u001b[38;5;241m=\u001b[39m cards[\u001b[38;5;241m3\u001b[39m]\n\u001b[0;32m      3\u001b[0m \u001b[38;5;28;01mfor\u001b[39;00m card \u001b[38;5;129;01min\u001b[39;00m cards:\n\u001b[1;32m----> 4\u001b[0m     data \u001b[38;5;241m=\u001b[39m \u001b[43mget_tweet_data\u001b[49m\u001b[43m(\u001b[49m\u001b[43mcard\u001b[49m\u001b[43m)\u001b[49m\n\u001b[0;32m      5\u001b[0m     \u001b[38;5;28;01mif\u001b[39;00m data:\n\u001b[0;32m      6\u001b[0m         tweet_data\u001b[38;5;241m.\u001b[39mappend(data)\n",
      "Input \u001b[1;32mIn [23]\u001b[0m, in \u001b[0;36mget_tweet_data\u001b[1;34m(card)\u001b[0m\n\u001b[0;32m      1\u001b[0m \u001b[38;5;28;01mdef\u001b[39;00m \u001b[38;5;21mget_tweet_data\u001b[39m(card):\n\u001b[0;32m      2\u001b[0m     \u001b[38;5;124m\"\u001b[39m\u001b[38;5;124mExtract data from tweet data\u001b[39m\u001b[38;5;124m\"\u001b[39m\n\u001b[1;32m----> 3\u001b[0m     username \u001b[38;5;241m=\u001b[39m \u001b[43mcard\u001b[49m\u001b[38;5;241;43m.\u001b[39;49m\u001b[43mfind_element\u001b[49m\u001b[43m(\u001b[49m\u001b[38;5;124;43m\"\u001b[39;49m\u001b[38;5;124;43mxpath\u001b[39;49m\u001b[38;5;124;43m\"\u001b[39;49m\u001b[43m,\u001b[49m\u001b[43m \u001b[49m\u001b[38;5;124;43m'\u001b[39;49m\u001b[38;5;124;43m.//span/span\u001b[39;49m\u001b[38;5;124;43m'\u001b[39;49m\u001b[43m)\u001b[49m\u001b[38;5;241m.\u001b[39mtext\n\u001b[0;32m      4\u001b[0m     handle \u001b[38;5;241m=\u001b[39m card\u001b[38;5;241m.\u001b[39mfind_element(\u001b[38;5;124m\"\u001b[39m\u001b[38;5;124mxpath\u001b[39m\u001b[38;5;124m\"\u001b[39m, \u001b[38;5;124m'\u001b[39m\u001b[38;5;124m.//span[contains(text(), \u001b[39m\u001b[38;5;124m\"\u001b[39m\u001b[38;5;124m@\u001b[39m\u001b[38;5;124m\"\u001b[39m\u001b[38;5;124m)]\u001b[39m\u001b[38;5;124m'\u001b[39m)\u001b[38;5;241m.\u001b[39mtext\n\u001b[0;32m      5\u001b[0m     \u001b[38;5;28;01mtry\u001b[39;00m:\n",
      "File \u001b[1;32m~\\anaconda3\\lib\\site-packages\\selenium\\webdriver\\remote\\webelement.py:419\u001b[0m, in \u001b[0;36mWebElement.find_element\u001b[1;34m(self, by, value)\u001b[0m\n\u001b[0;32m    416\u001b[0m     by \u001b[38;5;241m=\u001b[39m By\u001b[38;5;241m.\u001b[39mCSS_SELECTOR\n\u001b[0;32m    417\u001b[0m     value \u001b[38;5;241m=\u001b[39m \u001b[38;5;124m'\u001b[39m\u001b[38;5;124m[name=\u001b[39m\u001b[38;5;124m\"\u001b[39m\u001b[38;5;132;01m%s\u001b[39;00m\u001b[38;5;124m\"\u001b[39m\u001b[38;5;124m]\u001b[39m\u001b[38;5;124m'\u001b[39m \u001b[38;5;241m%\u001b[39m value\n\u001b[1;32m--> 419\u001b[0m \u001b[38;5;28;01mreturn\u001b[39;00m \u001b[38;5;28;43mself\u001b[39;49m\u001b[38;5;241;43m.\u001b[39;49m\u001b[43m_execute\u001b[49m\u001b[43m(\u001b[49m\u001b[43mCommand\u001b[49m\u001b[38;5;241;43m.\u001b[39;49m\u001b[43mFIND_CHILD_ELEMENT\u001b[49m\u001b[43m,\u001b[49m\n\u001b[0;32m    420\u001b[0m \u001b[43m                     \u001b[49m\u001b[43m{\u001b[49m\u001b[38;5;124;43m\"\u001b[39;49m\u001b[38;5;124;43musing\u001b[39;49m\u001b[38;5;124;43m\"\u001b[39;49m\u001b[43m:\u001b[49m\u001b[43m \u001b[49m\u001b[43mby\u001b[49m\u001b[43m,\u001b[49m\u001b[43m \u001b[49m\u001b[38;5;124;43m\"\u001b[39;49m\u001b[38;5;124;43mvalue\u001b[39;49m\u001b[38;5;124;43m\"\u001b[39;49m\u001b[43m:\u001b[49m\u001b[43m \u001b[49m\u001b[43mvalue\u001b[49m\u001b[43m}\u001b[49m\u001b[43m)\u001b[49m[\u001b[38;5;124m'\u001b[39m\u001b[38;5;124mvalue\u001b[39m\u001b[38;5;124m'\u001b[39m]\n",
      "File \u001b[1;32m~\\anaconda3\\lib\\site-packages\\selenium\\webdriver\\remote\\webelement.py:396\u001b[0m, in \u001b[0;36mWebElement._execute\u001b[1;34m(self, command, params)\u001b[0m\n\u001b[0;32m    394\u001b[0m     params \u001b[38;5;241m=\u001b[39m {}\n\u001b[0;32m    395\u001b[0m params[\u001b[38;5;124m'\u001b[39m\u001b[38;5;124mid\u001b[39m\u001b[38;5;124m'\u001b[39m] \u001b[38;5;241m=\u001b[39m \u001b[38;5;28mself\u001b[39m\u001b[38;5;241m.\u001b[39m_id\n\u001b[1;32m--> 396\u001b[0m \u001b[38;5;28;01mreturn\u001b[39;00m \u001b[38;5;28;43mself\u001b[39;49m\u001b[38;5;241;43m.\u001b[39;49m\u001b[43m_parent\u001b[49m\u001b[38;5;241;43m.\u001b[39;49m\u001b[43mexecute\u001b[49m\u001b[43m(\u001b[49m\u001b[43mcommand\u001b[49m\u001b[43m,\u001b[49m\u001b[43m \u001b[49m\u001b[43mparams\u001b[49m\u001b[43m)\u001b[49m\n",
      "File \u001b[1;32m~\\anaconda3\\lib\\site-packages\\selenium\\webdriver\\remote\\webdriver.py:435\u001b[0m, in \u001b[0;36mWebDriver.execute\u001b[1;34m(self, driver_command, params)\u001b[0m\n\u001b[0;32m    433\u001b[0m response \u001b[38;5;241m=\u001b[39m \u001b[38;5;28mself\u001b[39m\u001b[38;5;241m.\u001b[39mcommand_executor\u001b[38;5;241m.\u001b[39mexecute(driver_command, params)\n\u001b[0;32m    434\u001b[0m \u001b[38;5;28;01mif\u001b[39;00m response:\n\u001b[1;32m--> 435\u001b[0m     \u001b[38;5;28;43mself\u001b[39;49m\u001b[38;5;241;43m.\u001b[39;49m\u001b[43merror_handler\u001b[49m\u001b[38;5;241;43m.\u001b[39;49m\u001b[43mcheck_response\u001b[49m\u001b[43m(\u001b[49m\u001b[43mresponse\u001b[49m\u001b[43m)\u001b[49m\n\u001b[0;32m    436\u001b[0m     response[\u001b[38;5;124m'\u001b[39m\u001b[38;5;124mvalue\u001b[39m\u001b[38;5;124m'\u001b[39m] \u001b[38;5;241m=\u001b[39m \u001b[38;5;28mself\u001b[39m\u001b[38;5;241m.\u001b[39m_unwrap_value(\n\u001b[0;32m    437\u001b[0m         response\u001b[38;5;241m.\u001b[39mget(\u001b[38;5;124m'\u001b[39m\u001b[38;5;124mvalue\u001b[39m\u001b[38;5;124m'\u001b[39m, \u001b[38;5;28;01mNone\u001b[39;00m))\n\u001b[0;32m    438\u001b[0m     \u001b[38;5;28;01mreturn\u001b[39;00m response\n",
      "File \u001b[1;32m~\\anaconda3\\lib\\site-packages\\selenium\\webdriver\\remote\\errorhandler.py:247\u001b[0m, in \u001b[0;36mErrorHandler.check_response\u001b[1;34m(self, response)\u001b[0m\n\u001b[0;32m    245\u001b[0m         alert_text \u001b[38;5;241m=\u001b[39m value[\u001b[38;5;124m'\u001b[39m\u001b[38;5;124malert\u001b[39m\u001b[38;5;124m'\u001b[39m]\u001b[38;5;241m.\u001b[39mget(\u001b[38;5;124m'\u001b[39m\u001b[38;5;124mtext\u001b[39m\u001b[38;5;124m'\u001b[39m)\n\u001b[0;32m    246\u001b[0m     \u001b[38;5;28;01mraise\u001b[39;00m exception_class(message, screen, stacktrace, alert_text)  \u001b[38;5;66;03m# type: ignore[call-arg]  # mypy is not smart enough here\u001b[39;00m\n\u001b[1;32m--> 247\u001b[0m \u001b[38;5;28;01mraise\u001b[39;00m exception_class(message, screen, stacktrace)\n",
      "\u001b[1;31mStaleElementReferenceException\u001b[0m: Message: stale element reference: element is not attached to the page document\n  (Session info: chrome=103.0.5060.134)\nStacktrace:\nBacktrace:\n\tOrdinal0 [0x00B55FD3+2187219]\n\tOrdinal0 [0x00AEE6D1+1763025]\n\tOrdinal0 [0x00A03E78+802424]\n\tOrdinal0 [0x00A06854+813140]\n\tOrdinal0 [0x00A06712+812818]\n\tOrdinal0 [0x00A069A0+813472]\n\tOrdinal0 [0x00A31925+989477]\n\tOrdinal0 [0x00A31EAB+990891]\n\tOrdinal0 [0x00A28411+951313]\n\tOrdinal0 [0x00A4CBD4+1100756]\n\tOrdinal0 [0x00A28394+951188]\n\tOrdinal0 [0x00A4CDA4+1101220]\n\tOrdinal0 [0x00A5CFC2+1167298]\n\tOrdinal0 [0x00A4C9A6+1100198]\n\tOrdinal0 [0x00A26F80+946048]\n\tOrdinal0 [0x00A27E76+949878]\n\tGetHandleVerifier [0x00DF90C2+2721218]\n\tGetHandleVerifier [0x00DEAAF0+2662384]\n\tGetHandleVerifier [0x00BE137A+526458]\n\tGetHandleVerifier [0x00BE0416+522518]\n\tOrdinal0 [0x00AF4EAB+1789611]\n\tOrdinal0 [0x00AF97A8+1808296]\n\tOrdinal0 [0x00AF9895+1808533]\n\tOrdinal0 [0x00B026C1+1844929]\n\tBaseThreadInitThunk [0x7649FA29+25]\n\tRtlGetAppContainerNamedObjectPath [0x778A7A9E+286]\n\tRtlGetAppContainerNamedObjectPath [0x778A7A6E+238]\n"
     ]
    }
   ],
   "source": [
    "tweet_data = []\n",
    "\n",
    "for card in cards:\n",
    "    data = get_tweet_data(card)\n",
    "    if data:\n",
    "        tweet_data.append(data)"
   ]
  },
  {
   "cell_type": "code",
   "execution_count": 26,
   "id": "f9c35067",
   "metadata": {},
   "outputs": [
    {
     "ename": "IndexError",
     "evalue": "list index out of range",
     "output_type": "error",
     "traceback": [
      "\u001b[1;31m---------------------------------------------------------------------------\u001b[0m",
      "\u001b[1;31mIndexError\u001b[0m                                Traceback (most recent call last)",
      "Input \u001b[1;32mIn [26]\u001b[0m, in \u001b[0;36m<cell line: 1>\u001b[1;34m()\u001b[0m\n\u001b[1;32m----> 1\u001b[0m \u001b[43mtweet_data\u001b[49m\u001b[43m[\u001b[49m\u001b[38;5;241;43m0\u001b[39;49m\u001b[43m]\u001b[49m\n",
      "\u001b[1;31mIndexError\u001b[0m: list index out of range"
     ]
    }
   ],
   "source": [
    "tweet_data[0]"
   ]
  },
  {
   "cell_type": "code",
   "execution_count": 29,
   "id": "2183c127",
   "metadata": {},
   "outputs": [],
   "source": [
    " driver.execute_script('window.scrollTo(0, document.body.scrollHeight);')"
   ]
  },
  {
   "cell_type": "markdown",
   "id": "9b5aeaa2",
   "metadata": {},
   "source": [
    "# Putting it all together"
   ]
  },
  {
   "cell_type": "code",
   "execution_count": 10,
   "id": "7dd033b8",
   "metadata": {},
   "outputs": [
    {
     "name": "stdout",
     "output_type": "stream",
     "text": [
      "\n",
      "········\n",
      "Enter Search Term: monkeypox\n"
     ]
    },
    {
     "ename": "StaleElementReferenceException",
     "evalue": "Message: stale element reference: element is not attached to the page document\n  (Session info: chrome=103.0.5060.134)\nStacktrace:\nBacktrace:\n\tOrdinal0 [0x00375FD3+2187219]\n\tOrdinal0 [0x0030E6D1+1763025]\n\tOrdinal0 [0x00223E78+802424]\n\tOrdinal0 [0x00226854+813140]\n\tOrdinal0 [0x00226712+812818]\n\tOrdinal0 [0x002269A0+813472]\n\tOrdinal0 [0x00251925+989477]\n\tOrdinal0 [0x00251EAB+990891]\n\tOrdinal0 [0x00248411+951313]\n\tOrdinal0 [0x0026CBD4+1100756]\n\tOrdinal0 [0x00248394+951188]\n\tOrdinal0 [0x0026CDA4+1101220]\n\tOrdinal0 [0x0027CFC2+1167298]\n\tOrdinal0 [0x0026C9A6+1100198]\n\tOrdinal0 [0x00246F80+946048]\n\tOrdinal0 [0x00247E76+949878]\n\tGetHandleVerifier [0x006190C2+2721218]\n\tGetHandleVerifier [0x0060AAF0+2662384]\n\tGetHandleVerifier [0x0040137A+526458]\n\tGetHandleVerifier [0x00400416+522518]\n\tOrdinal0 [0x00314EAB+1789611]\n\tOrdinal0 [0x003197A8+1808296]\n\tOrdinal0 [0x00319895+1808533]\n\tOrdinal0 [0x003226C1+1844929]\n\tBaseThreadInitThunk [0x7649FA29+25]\n\tRtlGetAppContainerNamedObjectPath [0x778A7A9E+286]\n\tRtlGetAppContainerNamedObjectPath [0x778A7A6E+238]\n",
     "output_type": "error",
     "traceback": [
      "\u001b[1;31m---------------------------------------------------------------------------\u001b[0m",
      "\u001b[1;31mStaleElementReferenceException\u001b[0m            Traceback (most recent call last)",
      "Input \u001b[1;32mIn [10]\u001b[0m, in \u001b[0;36m<cell line: 59>\u001b[1;34m()\u001b[0m\n\u001b[0;32m     60\u001b[0m page_cards \u001b[38;5;241m=\u001b[39m driver\u001b[38;5;241m.\u001b[39mfind_elements(\u001b[38;5;124m\"\u001b[39m\u001b[38;5;124mxpath\u001b[39m\u001b[38;5;124m\"\u001b[39m, \u001b[38;5;124m'\u001b[39m\u001b[38;5;124m//div[@data-testid = \u001b[39m\u001b[38;5;124m\"\u001b[39m\u001b[38;5;124mcellInnerDiv\u001b[39m\u001b[38;5;124m\"\u001b[39m\u001b[38;5;124m]\u001b[39m\u001b[38;5;124m'\u001b[39m)    \n\u001b[0;32m     61\u001b[0m \u001b[38;5;28;01mfor\u001b[39;00m card \u001b[38;5;129;01min\u001b[39;00m page_cards[\u001b[38;5;241m-\u001b[39m\u001b[38;5;241m10\u001b[39m:]:\n\u001b[1;32m---> 62\u001b[0m     tweet \u001b[38;5;241m=\u001b[39m \u001b[43mget_tweet_data\u001b[49m\u001b[43m(\u001b[49m\u001b[43mcard\u001b[49m\u001b[43m)\u001b[49m\n\u001b[0;32m     63\u001b[0m     \u001b[38;5;28;01mif\u001b[39;00m tweet:\n\u001b[0;32m     64\u001b[0m         tweet_id \u001b[38;5;241m=\u001b[39m \u001b[38;5;124m'\u001b[39m\u001b[38;5;124m'\u001b[39m\u001b[38;5;241m.\u001b[39mjoin(tweet)\n",
      "Input \u001b[1;32mIn [10]\u001b[0m, in \u001b[0;36mget_tweet_data\u001b[1;34m(card)\u001b[0m\n\u001b[0;32m     10\u001b[0m \u001b[38;5;28;01mdef\u001b[39;00m \u001b[38;5;21mget_tweet_data\u001b[39m(card):\n\u001b[0;32m     11\u001b[0m     \u001b[38;5;124m\"\u001b[39m\u001b[38;5;124mExtract data from tweet data\u001b[39m\u001b[38;5;124m\"\u001b[39m\n\u001b[1;32m---> 12\u001b[0m     username \u001b[38;5;241m=\u001b[39m \u001b[43mcard\u001b[49m\u001b[38;5;241;43m.\u001b[39;49m\u001b[43mfind_element\u001b[49m\u001b[43m(\u001b[49m\u001b[38;5;124;43m\"\u001b[39;49m\u001b[38;5;124;43mxpath\u001b[39;49m\u001b[38;5;124;43m\"\u001b[39;49m\u001b[43m,\u001b[49m\u001b[43m \u001b[49m\u001b[38;5;124;43m'\u001b[39;49m\u001b[38;5;124;43m.//span/span\u001b[39;49m\u001b[38;5;124;43m'\u001b[39;49m\u001b[43m)\u001b[49m\u001b[38;5;241m.\u001b[39mtext\n\u001b[0;32m     13\u001b[0m     handle \u001b[38;5;241m=\u001b[39m card\u001b[38;5;241m.\u001b[39mfind_element(\u001b[38;5;124m\"\u001b[39m\u001b[38;5;124mxpath\u001b[39m\u001b[38;5;124m\"\u001b[39m, \u001b[38;5;124m'\u001b[39m\u001b[38;5;124m.//span[contains(text(), \u001b[39m\u001b[38;5;124m\"\u001b[39m\u001b[38;5;124m@\u001b[39m\u001b[38;5;124m\"\u001b[39m\u001b[38;5;124m)]\u001b[39m\u001b[38;5;124m'\u001b[39m)\u001b[38;5;241m.\u001b[39mtext\n\u001b[0;32m     14\u001b[0m     \u001b[38;5;28;01mtry\u001b[39;00m:\n",
      "File \u001b[1;32m~\\anaconda3\\lib\\site-packages\\selenium\\webdriver\\remote\\webelement.py:419\u001b[0m, in \u001b[0;36mWebElement.find_element\u001b[1;34m(self, by, value)\u001b[0m\n\u001b[0;32m    416\u001b[0m     by \u001b[38;5;241m=\u001b[39m By\u001b[38;5;241m.\u001b[39mCSS_SELECTOR\n\u001b[0;32m    417\u001b[0m     value \u001b[38;5;241m=\u001b[39m \u001b[38;5;124m'\u001b[39m\u001b[38;5;124m[name=\u001b[39m\u001b[38;5;124m\"\u001b[39m\u001b[38;5;132;01m%s\u001b[39;00m\u001b[38;5;124m\"\u001b[39m\u001b[38;5;124m]\u001b[39m\u001b[38;5;124m'\u001b[39m \u001b[38;5;241m%\u001b[39m value\n\u001b[1;32m--> 419\u001b[0m \u001b[38;5;28;01mreturn\u001b[39;00m \u001b[38;5;28;43mself\u001b[39;49m\u001b[38;5;241;43m.\u001b[39;49m\u001b[43m_execute\u001b[49m\u001b[43m(\u001b[49m\u001b[43mCommand\u001b[49m\u001b[38;5;241;43m.\u001b[39;49m\u001b[43mFIND_CHILD_ELEMENT\u001b[49m\u001b[43m,\u001b[49m\n\u001b[0;32m    420\u001b[0m \u001b[43m                     \u001b[49m\u001b[43m{\u001b[49m\u001b[38;5;124;43m\"\u001b[39;49m\u001b[38;5;124;43musing\u001b[39;49m\u001b[38;5;124;43m\"\u001b[39;49m\u001b[43m:\u001b[49m\u001b[43m \u001b[49m\u001b[43mby\u001b[49m\u001b[43m,\u001b[49m\u001b[43m \u001b[49m\u001b[38;5;124;43m\"\u001b[39;49m\u001b[38;5;124;43mvalue\u001b[39;49m\u001b[38;5;124;43m\"\u001b[39;49m\u001b[43m:\u001b[49m\u001b[43m \u001b[49m\u001b[43mvalue\u001b[49m\u001b[43m}\u001b[49m\u001b[43m)\u001b[49m[\u001b[38;5;124m'\u001b[39m\u001b[38;5;124mvalue\u001b[39m\u001b[38;5;124m'\u001b[39m]\n",
      "File \u001b[1;32m~\\anaconda3\\lib\\site-packages\\selenium\\webdriver\\remote\\webelement.py:396\u001b[0m, in \u001b[0;36mWebElement._execute\u001b[1;34m(self, command, params)\u001b[0m\n\u001b[0;32m    394\u001b[0m     params \u001b[38;5;241m=\u001b[39m {}\n\u001b[0;32m    395\u001b[0m params[\u001b[38;5;124m'\u001b[39m\u001b[38;5;124mid\u001b[39m\u001b[38;5;124m'\u001b[39m] \u001b[38;5;241m=\u001b[39m \u001b[38;5;28mself\u001b[39m\u001b[38;5;241m.\u001b[39m_id\n\u001b[1;32m--> 396\u001b[0m \u001b[38;5;28;01mreturn\u001b[39;00m \u001b[38;5;28;43mself\u001b[39;49m\u001b[38;5;241;43m.\u001b[39;49m\u001b[43m_parent\u001b[49m\u001b[38;5;241;43m.\u001b[39;49m\u001b[43mexecute\u001b[49m\u001b[43m(\u001b[49m\u001b[43mcommand\u001b[49m\u001b[43m,\u001b[49m\u001b[43m \u001b[49m\u001b[43mparams\u001b[49m\u001b[43m)\u001b[49m\n",
      "File \u001b[1;32m~\\anaconda3\\lib\\site-packages\\selenium\\webdriver\\remote\\webdriver.py:435\u001b[0m, in \u001b[0;36mWebDriver.execute\u001b[1;34m(self, driver_command, params)\u001b[0m\n\u001b[0;32m    433\u001b[0m response \u001b[38;5;241m=\u001b[39m \u001b[38;5;28mself\u001b[39m\u001b[38;5;241m.\u001b[39mcommand_executor\u001b[38;5;241m.\u001b[39mexecute(driver_command, params)\n\u001b[0;32m    434\u001b[0m \u001b[38;5;28;01mif\u001b[39;00m response:\n\u001b[1;32m--> 435\u001b[0m     \u001b[38;5;28;43mself\u001b[39;49m\u001b[38;5;241;43m.\u001b[39;49m\u001b[43merror_handler\u001b[49m\u001b[38;5;241;43m.\u001b[39;49m\u001b[43mcheck_response\u001b[49m\u001b[43m(\u001b[49m\u001b[43mresponse\u001b[49m\u001b[43m)\u001b[49m\n\u001b[0;32m    436\u001b[0m     response[\u001b[38;5;124m'\u001b[39m\u001b[38;5;124mvalue\u001b[39m\u001b[38;5;124m'\u001b[39m] \u001b[38;5;241m=\u001b[39m \u001b[38;5;28mself\u001b[39m\u001b[38;5;241m.\u001b[39m_unwrap_value(\n\u001b[0;32m    437\u001b[0m         response\u001b[38;5;241m.\u001b[39mget(\u001b[38;5;124m'\u001b[39m\u001b[38;5;124mvalue\u001b[39m\u001b[38;5;124m'\u001b[39m, \u001b[38;5;28;01mNone\u001b[39;00m))\n\u001b[0;32m    438\u001b[0m     \u001b[38;5;28;01mreturn\u001b[39;00m response\n",
      "File \u001b[1;32m~\\anaconda3\\lib\\site-packages\\selenium\\webdriver\\remote\\errorhandler.py:247\u001b[0m, in \u001b[0;36mErrorHandler.check_response\u001b[1;34m(self, response)\u001b[0m\n\u001b[0;32m    245\u001b[0m         alert_text \u001b[38;5;241m=\u001b[39m value[\u001b[38;5;124m'\u001b[39m\u001b[38;5;124malert\u001b[39m\u001b[38;5;124m'\u001b[39m]\u001b[38;5;241m.\u001b[39mget(\u001b[38;5;124m'\u001b[39m\u001b[38;5;124mtext\u001b[39m\u001b[38;5;124m'\u001b[39m)\n\u001b[0;32m    246\u001b[0m     \u001b[38;5;28;01mraise\u001b[39;00m exception_class(message, screen, stacktrace, alert_text)  \u001b[38;5;66;03m# type: ignore[call-arg]  # mypy is not smart enough here\u001b[39;00m\n\u001b[1;32m--> 247\u001b[0m \u001b[38;5;28;01mraise\u001b[39;00m exception_class(message, screen, stacktrace)\n",
      "\u001b[1;31mStaleElementReferenceException\u001b[0m: Message: stale element reference: element is not attached to the page document\n  (Session info: chrome=103.0.5060.134)\nStacktrace:\nBacktrace:\n\tOrdinal0 [0x00375FD3+2187219]\n\tOrdinal0 [0x0030E6D1+1763025]\n\tOrdinal0 [0x00223E78+802424]\n\tOrdinal0 [0x00226854+813140]\n\tOrdinal0 [0x00226712+812818]\n\tOrdinal0 [0x002269A0+813472]\n\tOrdinal0 [0x00251925+989477]\n\tOrdinal0 [0x00251EAB+990891]\n\tOrdinal0 [0x00248411+951313]\n\tOrdinal0 [0x0026CBD4+1100756]\n\tOrdinal0 [0x00248394+951188]\n\tOrdinal0 [0x0026CDA4+1101220]\n\tOrdinal0 [0x0027CFC2+1167298]\n\tOrdinal0 [0x0026C9A6+1100198]\n\tOrdinal0 [0x00246F80+946048]\n\tOrdinal0 [0x00247E76+949878]\n\tGetHandleVerifier [0x006190C2+2721218]\n\tGetHandleVerifier [0x0060AAF0+2662384]\n\tGetHandleVerifier [0x0040137A+526458]\n\tGetHandleVerifier [0x00400416+522518]\n\tOrdinal0 [0x00314EAB+1789611]\n\tOrdinal0 [0x003197A8+1808296]\n\tOrdinal0 [0x00319895+1808533]\n\tOrdinal0 [0x003226C1+1844929]\n\tBaseThreadInitThunk [0x7649FA29+25]\n\tRtlGetAppContainerNamedObjectPath [0x778A7A9E+286]\n\tRtlGetAppContainerNamedObjectPath [0x778A7A6E+238]\n"
     ]
    }
   ],
   "source": [
    "import csv\n",
    "from getpass import getpass\n",
    "from time import sleep\n",
    "from selenium import webdriver\n",
    "from selenium.webdriver.common.keys import Keys\n",
    "from selenium.webdriver.chrome.service import Service\n",
    "from webdriver_manager.chrome import ChromeDriverManager\n",
    "import pandas as pd\n",
    "\n",
    "def get_tweet_data(card):\n",
    "    \"Extract data from tweet data\"\n",
    "    username = card.find_element(\"xpath\", './/span/span').text\n",
    "    handle = card.find_element(\"xpath\", './/span[contains(text(), \"@\")]').text\n",
    "    try:\n",
    "        postdate = card.find_element(\"xpath\",'.//time').get_attribute('datetime')\n",
    "    except NoSuchElementException:\n",
    "        return\n",
    "    comment = card.find_element(\"xpath\", './/div[@data-testid = \"tweetText\"]').text\n",
    "    reply_count = card.find_element(\"xpath\", './/div[@data-testid = \"reply\"]').text\n",
    "    retweet = card.find_element(\"xpath\", './/div[@data-testid = \"retweet\"]').text\n",
    "    like = card.find_element(\"xpath\", './/div[@data-testid = \"like\"]').text\n",
    "    \n",
    "    tweet = (username, handle, postdate, comment, reply_count, retweet, like)\n",
    "    return tweet\n",
    "\n",
    "# Create instance for web driver\n",
    "driver = webdriver.Chrome(service = Service(ChromeDriverManager().install()))\n",
    "\n",
    "# Navigate to login screen\n",
    "driver.get('https://www.twitter.com/login')\n",
    "driver.maximize_window()\n",
    "sleep(10)\n",
    "username = driver.find_element(\"xpath\",'//input[@name = \"text\"]')\n",
    "username.send_keys('raj_rajsingh03')\n",
    "username.send_keys(Keys.RETURN)\n",
    "sleep(1)\n",
    "mypassword = getpass()\n",
    "\n",
    "password = driver.find_element(\"xpath\", '//input[@name = \"password\"]')\n",
    "password.send_keys(mypassword)\n",
    "password.send_keys(Keys.RETURN)\n",
    "sleep(5)\n",
    "# find serach input & search for term\n",
    "search_input = driver.find_element(\"xpath\", '//input[@aria-label = \"Search query\"]')\n",
    "search_term = input(\"Enter Search Term: \")\n",
    "search_input.send_keys(search_term)\n",
    "search_input.send_keys(Keys.RETURN)\n",
    "\n",
    "#Navigate to the latest tweets\n",
    "driver.find_element(\"link text\", 'Latest').click()\n",
    "sleep(5)\n",
    "\n",
    "#get all tweets from the page\n",
    "data = []\n",
    "tweet_ids = []\n",
    "last_position = driver.execute_script(\"return window.pageYOffset;\")\n",
    "scrolling = True\n",
    "\n",
    "while scrolling:\n",
    "    page_cards = driver.find_elements(\"xpath\", '//div[@data-testid = \"cellInnerDiv\"]')    \n",
    "    for card in page_cards[-10:]:\n",
    "        tweet = get_tweet_data(card)\n",
    "        if tweet:\n",
    "            tweet_id = ''.join(tweet)\n",
    "            if tweet_id not in tweet_ids:\n",
    "                tweet_ids.append(tweet_id)\n",
    "                data.append(tweet)\n",
    "                \n",
    "    scroll_attempt = 0\n",
    "    while True:\n",
    "        #check scroll position\n",
    "        driver.execute_script('window.scrollTo(0, document.body.scrollHeight);')\n",
    "        sleep(2)\n",
    "        curr_position = driver.execute_script(\"return window.pageYOffset;\")\n",
    "        if last_position == curr_position:\n",
    "            scroll_attempt += 1\n",
    "            \n",
    "            #end of scroll region\n",
    "            if scroll_attempt >= 3:\n",
    "                scrolling = False\n",
    "                break\n",
    "            else:\n",
    "                sleep(5)\n",
    "        else: \n",
    "            last_position = curr_position\n",
    "            break"
   ]
  },
  {
   "cell_type": "code",
   "execution_count": 11,
   "id": "cf114619",
   "metadata": {},
   "outputs": [
    {
     "data": {
      "text/plain": [
       "693"
      ]
     },
     "execution_count": 11,
     "metadata": {},
     "output_type": "execute_result"
    }
   ],
   "source": [
    "len(data)"
   ]
  },
  {
   "cell_type": "markdown",
   "id": "c229c62b",
   "metadata": {},
   "source": [
    "# Saving the tweet data"
   ]
  },
  {
   "cell_type": "code",
   "execution_count": 13,
   "id": "39776bc6",
   "metadata": {},
   "outputs": [],
   "source": [
    "with open('monkeypox_tweets.csv', 'w', newline = '', encoding = 'utf-8') as f:\n",
    "    header = ['Username', 'Handle', 'Timestamp', 'Comments', 'Likes', 'Retweets', 'Text']\n",
    "    writer = csv.writer(f)\n",
    "    writer.writerow(header)\n",
    "    writer.writerows(data)\n",
    "    "
   ]
  },
  {
   "cell_type": "code",
   "execution_count": null,
   "id": "4bb29543",
   "metadata": {},
   "outputs": [],
   "source": []
  }
 ],
 "metadata": {
  "kernelspec": {
   "display_name": "Python 3 (ipykernel)",
   "language": "python",
   "name": "python3"
  },
  "language_info": {
   "codemirror_mode": {
    "name": "ipython",
    "version": 3
   },
   "file_extension": ".py",
   "mimetype": "text/x-python",
   "name": "python",
   "nbconvert_exporter": "python",
   "pygments_lexer": "ipython3",
   "version": "3.9.12"
  }
 },
 "nbformat": 4,
 "nbformat_minor": 5
}
